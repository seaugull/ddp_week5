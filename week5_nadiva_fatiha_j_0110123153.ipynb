{
  "nbformat": 4,
  "nbformat_minor": 0,
  "metadata": {
    "colab": {
      "provenance": [],
      "toc_visible": true
    },
    "kernelspec": {
      "name": "python3",
      "display_name": "Python 3"
    },
    "language_info": {
      "name": "python"
    }
  },
  "cells": [
    {
      "cell_type": "code",
      "execution_count": null,
      "metadata": {
        "colab": {
          "base_uri": "https://localhost:8080/"
        },
        "id": "UP3X4P4rXdgv",
        "outputId": "0f071c55-b055-4cab-bec4-58d204eaf85d"
      },
      "outputs": [
        {
          "output_type": "stream",
          "name": "stdout",
          "text": [
            "['vario', 'motor', 'honda', '125cc']\n"
          ]
        }
      ],
      "source": [
        "mylist=[\"vario\",\"motor\",\"honda\",\"125cc\"]\n",
        "print(mylist)"
      ]
    },
    {
      "cell_type": "code",
      "source": [
        "mylist=[\"vario\",\"motor\",\"honda\",\"125cc\"]\n",
        "mylist.append(\"putih\")\n",
        "mylist.append(\"roda2\")\n",
        "mylist.append(\"8jt\")\n",
        "mylist.resove(\"motor\")\n",
        "print(mylist)"
      ],
      "metadata": {
        "colab": {
          "base_uri": "https://localhost:8080/"
        },
        "id": "G0KJcLEbeQnr",
        "outputId": "a3c0b454-24f5-42c0-90cc-f87dc1e53ed9"
      },
      "execution_count": null,
      "outputs": [
        {
          "output_type": "stream",
          "name": "stdout",
          "text": [
            "['vario', 'honda', '125cc', 'putih', 'roda2', '8jt']\n"
          ]
        }
      ]
    },
    {
      "cell_type": "code",
      "source": [
        "ket = '''selamat datang di aplikasi menghitung luas bangun datar\n",
        "masukan pilihan :\n",
        "1 = menghitung luas persegi\n",
        "2 = menghitung luas lingkaran\n",
        "3 = menghitung luas segitiga\n",
        "silahkan pilih :\n",
        "'''\n",
        "pilihan = input (ket)\n",
        "\n",
        "match pilihan:\n",
        "    case \"1\" :\n",
        "        print (\"kamu memilih 1 untuk menghitung luas persegi\")\n",
        "        sisi = int(input (\"masukan sisi :\"))\n",
        "        LPersegi = sisi * sisi\n",
        "        print (\"luas persegi adalah\", LPersegi)\n",
        "    case \"2\":\n",
        "        print(\"kamu memilih 2 untuk menghitung luas lingkaran\")\n",
        "        r = int (input (\"masukan jari-jari :\"))\n",
        "        LLingkaran = 3.14 * r**2\n",
        "        print (\"Luas Lingkaran adalah\", LLingkaran)\n",
        "    case \"3\":\n",
        "        print (\"kamu memilih 3 untuk menghitung luas segitiga\")\n",
        "        alas = int(input (\"masukan alas :\"))\n",
        "        tinggi = int(input (\"masukan tinggi :\"))\n",
        "        LuasSegitiga = 0.5 * alas * tinggi\n",
        "        print (\"Luas Segitiga\", LuasSegitiga)\n",
        "    case _:\n",
        "        print (\"pilihan  salah\")"
      ],
      "metadata": {
        "id": "nZJ6o0frh4U6"
      },
      "execution_count": null,
      "outputs": []
    }
  ]
}